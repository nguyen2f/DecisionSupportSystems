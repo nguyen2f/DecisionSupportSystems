{
  "nbformat": 4,
  "nbformat_minor": 0,
  "metadata": {
    "colab": {
      "provenance": []
    },
    "kernelspec": {
      "name": "python3",
      "display_name": "Python 3"
    },
    "language_info": {
      "name": "python"
    }
  },
  "cells": [
    {
      "cell_type": "code",
      "execution_count": null,
      "metadata": {
        "colab": {
          "base_uri": "https://localhost:8080/"
        },
        "id": "8rX52vpClhY0",
        "outputId": "8c5bb315-663c-4e21-e6bf-8879b55a8bd2"
      },
      "outputs": [
        {
          "output_type": "stream",
          "name": "stdout",
          "text": [
            "Nhập độ dài cạnh a: 10\n",
            "* * * * * * * * * * \n",
            "* * * * * * * * * * \n",
            "* * * * * * * * * * \n",
            "* * * * * * * * * * \n",
            "* * * * * * * * * * \n",
            "* * * * * * * * * * \n",
            "* * * * * * * * * * \n",
            "* * * * * * * * * * \n",
            "* * * * * * * * * * \n",
            "* * * * * * * * * * \n"
          ]
        }
      ],
      "source": [
        "def bai2():\n",
        "    a = int(input(\"Nhập độ dài cạnh a: \"))\n",
        "    for i in range(a):\n",
        "        print('* ' * a)\n",
        "bai2()"
      ]
    },
    {
      "cell_type": "code",
      "source": [
        "import math\n",
        "def bai8():\n",
        "    a = float(input(\"Nhập cạnh a: \"))\n",
        "    b = float(input(\"Nhập cạnh b: \"))\n",
        "    c = float(input(\"Nhập cạnh c: \"))\n",
        "    if a + b > c and a + c > b and b + c > a:\n",
        "        p = (a + b + c) / 2\n",
        "        s = math.sqrt(p * (p - a) * (p - b) * (p - c))\n",
        "        print(f\"Diện tích tam giác: {s:.2f}\")\n",
        "    else:\n",
        "        print(\"Không phải tam giác hợp lệ\")\n",
        "bai8()5"
      ],
      "metadata": {
        "colab": {
          "base_uri": "https://localhost:8080/"
        },
        "id": "px1Pu5BqlsV4",
        "outputId": "0bea4227-8e44-4b68-8251-0de2dd6f7c58"
      },
      "execution_count": null,
      "outputs": [
        {
          "output_type": "stream",
          "name": "stdout",
          "text": [
            "Nhập cạnh a: 3\n",
            "Nhập cạnh b: 4\n",
            "Nhập cạnh c: 5\n",
            "Diện tích tam giác: 6.00\n"
          ]
        }
      ]
    },
    {
      "cell_type": "code",
      "source": [
        "def bai29():\n",
        "    n = int(input(\"Nhập n: \"))\n",
        "    result = 1\n",
        "    start = 1 if n % 2 else 2\n",
        "    for i in range(start, n + 1, 2):\n",
        "        result *= i\n",
        "    print(f\"{n}!! = {result}\")\n",
        "bai29()"
      ],
      "metadata": {
        "colab": {
          "base_uri": "https://localhost:8080/"
        },
        "id": "7y2QR8hql44o",
        "outputId": "dda4e74a-f3fa-4ae2-c449-76bc99f4a96d"
      },
      "execution_count": null,
      "outputs": [
        {
          "output_type": "stream",
          "name": "stdout",
          "text": [
            "Nhập n: 5\n",
            "5!! = 15\n"
          ]
        }
      ]
    },
    {
      "cell_type": "code",
      "source": [
        "import math\n",
        "def sine_taylor_series(x, threshold=0.00001):\n",
        "    x = math.radians(x)\n",
        "\n",
        "    sine_approx = 0\n",
        "    n = 0\n",
        "    term = x\n",
        "    while abs(term) > threshold:\n",
        "        sine_approx += term\n",
        "        n += 1\n",
        "        # Calculate the next term in the series\n",
        "        term = ((-1)**n * x**(2*n + 1)) / math.factorial(2*n + 1)\n",
        "    return sine_approx, n\n",
        "\n",
        "angle = int(input())\n",
        "sine_value, terms_used = sine_taylor_series(angle)\n",
        "\n",
        "print(f\"Sine({angle}°) ≈ {sine_value}\")\n",
        "print(f\"Terms used: {terms_used}\")"
      ],
      "metadata": {
        "colab": {
          "base_uri": "https://localhost:8080/"
        },
        "id": "rAiSH1oemAA8",
        "outputId": "9b83cec5-5408-4cfb-985a-80b800a3cd87"
      },
      "execution_count": 9,
      "outputs": [
        {
          "output_type": "stream",
          "name": "stdout",
          "text": [
            "30\n",
            "Sine(30°) ≈ 0.5000021325887924\n",
            "Terms used: 3\n"
          ]
        }
      ]
    },
    {
      "cell_type": "code",
      "source": [
        "# Bài tập 49: Tính phần tử thứ n của dãy Fn\n",
        "def bai49():\n",
        "    n = int(input(\"Nhập n (n >= 3): \"))\n",
        "    if n < 3:\n",
        "        print(\"n phải >= 3\")\n",
        "        return\n",
        "    f1, f2 = 1, 2\n",
        "    for i in range(3, n + 1):\n",
        "        f3 = 5 * f2 + 3 * f1\n",
        "        f1, f2 = f2, f3\n",
        "    print(f\"F({n}) = {f2}\")\n",
        "bai49()"
      ],
      "metadata": {
        "colab": {
          "base_uri": "https://localhost:8080/"
        },
        "id": "rnMV9EgmmCQC",
        "outputId": "46106939-a170-4889-c781-431c0404147d"
      },
      "execution_count": null,
      "outputs": [
        {
          "output_type": "stream",
          "name": "stdout",
          "text": [
            "Nhập n (n >= 3): 3\n",
            "F(3) = 13\n"
          ]
        }
      ]
    },
    {
      "cell_type": "code",
      "source": [
        "import random\n",
        "\n",
        "def input_array(n):\n",
        "    arr = []\n",
        "    for _ in range(n):\n",
        "        arr.append(int(input(\"Nhập phần tử: \")))\n",
        "    return arr\n",
        "\n",
        "def random_array(n):\n",
        "    return [random.randint(-100, 100) for _ in range(n)]\n",
        "\n",
        "def print_array(arr):\n",
        "    print(\"Mảng:\", arr)\n",
        "\n",
        "def find_max_min(arr):\n",
        "    return max(arr), min(arr)\n",
        "\n",
        "def first_negative_ending_with_6(arr):\n",
        "    for num in arr:\n",
        "        if num < 0 and str(num)[-1] == '6':\n",
        "            return num\n",
        "    return None\n",
        "\n",
        "def position_of_min_positive(arr):\n",
        "    min_pos = float('inf')\n",
        "    position = -1\n",
        "    for i, num in enumerate(arr):\n",
        "        if num > 0 and num < min_pos:\n",
        "            min_pos = num\n",
        "            position = i\n",
        "    return position\n",
        "\n",
        "def sum_array(arr):\n",
        "    return sum(arr)\n",
        "\n",
        "def average_array(arr):\n",
        "    return sum(arr) / len(arr) if arr else 0\n",
        "\n",
        "def search_element(arr, x):\n",
        "    return arr.index(x) if x in arr else -1\n",
        "\n",
        "def sort_array(arr, reverse=False):\n",
        "    return sorted(arr, reverse=reverse)\n",
        "\n",
        "def reverse_array(arr):\n",
        "    return arr[::-1]\n",
        "\n",
        "def add_element(arr, x, k):\n",
        "    arr.insert(k, x)\n",
        "\n",
        "def remove_element(arr, k):\n",
        "    if 0 <= k < len(arr):\n",
        "        arr.pop(k)\n",
        "\n",
        "def count_positive_elements(arr):\n",
        "    positives = [num for num in arr if num > 0]\n",
        "    return len(positives), sum(positives)\n",
        "\n",
        "def is_symmetric(arr):\n",
        "    return arr == arr[::-1]\n",
        "\n",
        "def is_sorted(arr):\n",
        "    return arr == sorted(arr)\n",
        "\n",
        "def main():\n",
        "    n = int(input(\"Nhập số phần tử của mảng: \"))\n",
        "    arr = random_array(n)\n",
        "    print_array(arr)\n",
        "\n",
        "    max_elem, min_elem = find_max_min(arr)\n",
        "    print(f\"Phần tử lớn nhất: {max_elem}, phần tử nhỏ nhất: {min_elem}\")\n",
        "\n",
        "    neg_ending_with_6 = first_negative_ending_with_6(arr)\n",
        "    if neg_ending_with_6 is not None:\n",
        "        print(f\"Phần tử âm đầu tiên tận cùng bằng 6: {neg_ending_with_6}\")\n",
        "    else:\n",
        "        print(\"Không có phần tử âm nào tận cùng bằng 6.\")\n",
        "\n",
        "    min_pos_index = position_of_min_positive(arr)\n",
        "    print(f\"Vị trí phần tử dương nhỏ nhất: {min_pos_index}\")\n",
        "\n",
        "    total_sum = sum_array(arr)\n",
        "    print(f\"Tổng của mảng: {total_sum}\")\n",
        "\n",
        "    avg = average_array(arr)\n",
        "    print(f\"Trung bình cộng của mảng: {avg}\")\n",
        "\n",
        "    x = int(input(\"Nhập phần tử x cần tìm: \"))\n",
        "    pos_x = search_element(arr, x)\n",
        "    print(f\"Vị trí của phần tử {x}: {pos_x}\")\n",
        "\n",
        "    sorted_asc = sort_array(arr)\n",
        "    sorted_desc = sort_array(arr, reverse=True)\n",
        "    print(f\"Sắp xếp tăng dần: {sorted_asc}\")\n",
        "    print(f\"Sắp xếp giảm dần: {sorted_desc}\")\n",
        "\n",
        "    reversed_arr = reverse_array(arr)\n",
        "    print(f\"Dãy đảo ngược của mảng: {reversed_arr}\")\n",
        "\n",
        "    x = int(input(\"Nhập phần tử x để thêm vào: \"))\n",
        "    k = int(input(\"Nhập vị trí k để thêm: \"))\n",
        "    add_element(arr, x, k)\n",
        "    print_array(arr)\n",
        "\n",
        "    k = int(input(\"Nhập vị trí k để xóa: \"))\n",
        "    remove_element(arr, k)\n",
        "    print_array(arr)\n",
        "\n",
        "    count_pos, sum_pos = count_positive_elements(arr)\n",
        "    print(f\"Số phần tử dương: {count_pos}, tổng các phần tử dương: {sum_pos}\")\n",
        "\n",
        "    if is_symmetric(arr):\n",
        "        print(\"Mảng đối xứng.\")\n",
        "    else:\n",
        "        print(\"Mảng không đối xứng.\")\n",
        "\n",
        "    if is_sorted(arr):\n",
        "        print(\"Mảng đã được sắp thứ tự tăng.\")\n",
        "    else:\n",
        "        print(\"Mảng chưa được sắp thứ tự tăng.\")\n",
        "\n",
        "if __name__ == \"__main__\":\n",
        "    main()"
      ],
      "metadata": {
        "colab": {
          "base_uri": "https://localhost:8080/"
        },
        "id": "_ybruklvmFaX",
        "outputId": "67ccbb97-8f98-4f56-f106-16fbb5667e03"
      },
      "execution_count": 10,
      "outputs": [
        {
          "output_type": "stream",
          "name": "stdout",
          "text": [
            "Nhập số phần tử của mảng: 4\n",
            "Mảng: [-54, -81, -50, -31]\n",
            "Phần tử lớn nhất: -31, phần tử nhỏ nhất: -81\n",
            "Không có phần tử âm nào tận cùng bằng 6.\n",
            "Vị trí phần tử dương nhỏ nhất: -1\n",
            "Tổng của mảng: -216\n",
            "Trung bình cộng của mảng: -54.0\n",
            "Nhập phần tử x cần tìm: -50\n",
            "Vị trí của phần tử -50: 2\n",
            "Sắp xếp tăng dần: [-81, -54, -50, -31]\n",
            "Sắp xếp giảm dần: [-31, -50, -54, -81]\n",
            "Dãy đảo ngược của mảng: [-31, -50, -81, -54]\n",
            "Nhập phần tử x để thêm vào: 23\n",
            "Nhập vị trí k để thêm: 3\n",
            "Mảng: [-54, -81, -50, 23, -31]\n",
            "Nhập vị trí k để xóa: 1\n",
            "Mảng: [-54, -50, 23, -31]\n",
            "Số phần tử dương: 1, tổng các phần tử dương: 23\n",
            "Mảng không đối xứng.\n",
            "Mảng chưa được sắp thứ tự tăng.\n"
          ]
        }
      ]
    },
    {
      "cell_type": "code",
      "source": [],
      "metadata": {
        "id": "mGXxXMypmHja"
      },
      "execution_count": null,
      "outputs": []
    },
    {
      "cell_type": "code",
      "source": [
        "class Diem:\n",
        "    def __init__(self, x, y):\n",
        "        self.x = x\n",
        "        self.y = y\n",
        "\n",
        "def khoang_cach(d1, d2):\n",
        "    return math.sqrt((d1.x - d2.x)**2 + (d1.y - d2.y)**2)\n",
        "\n",
        "def bai60():\n",
        "    d1 = Diem(*map(float, input(\"Nhập điểm A (x y): \").split()))\n",
        "    d2 = Diem(*map(float, input(\"Nhập điểm B (x y): \").split()))\n",
        "    d3 = Diem(*map(float, input(\"Nhập điểm C (x y): \").split()))\n",
        "    a = khoang_cach(d2, d3)\n",
        "    b = khoang_cach(d1, d3)\n",
        "    c = khoang_cach(d1, d2)\n",
        "    if a + b > c and a + c > b and b + c > a:\n",
        "        p = (a + b + c) / 2\n",
        "        s = math.sqrt(p * (p - a) * (p - b) * (p - c))\n",
        "        chu_vi = a + b + c\n",
        "        trong_tam = ((d1.x + d2.x + d3.x)/3, (d1.y + d2.y + d3.y)/3)\n",
        "        print(f\"Diện tích: {s:.2f}, Chu vi: {chu_vi:.2f}\")\n",
        "        print(f\"Trọng tâm: {trong_tam}\")\n",
        "    else:\n",
        "        print(\"Không phải tam giác hợp lệ\")\n",
        "bai60()"
      ],
      "metadata": {
        "colab": {
          "base_uri": "https://localhost:8080/"
        },
        "id": "rRNdFPpbmJYW",
        "outputId": "056587b9-c5d0-4cfc-e774-1c5e18fb458b"
      },
      "execution_count": null,
      "outputs": [
        {
          "output_type": "stream",
          "name": "stdout",
          "text": [
            "Nhập điểm A (x y): 0 0 \n",
            "Nhập điểm B (x y): 3 4\n",
            "Nhập điểm C (x y): 3 0 \n",
            "Diện tích: 6.00, Chu vi: 12.00\n",
            "Trọng tâm: (2.0, 1.3333333333333333)\n"
          ]
        }
      ]
    },
    {
      "cell_type": "code",
      "source": [
        "# Bài tập 61: Số phức\n",
        "class SoPhuc:\n",
        "    def __init__(self, thuc, ao):\n",
        "        self.thuc = thuc\n",
        "        self.ao = ao\n",
        "\n",
        "    def __add__(self, other):\n",
        "        return SoPhuc(self.thuc + other.thuc, self.ao + other.ao)\n",
        "\n",
        "    def __sub__(self, other):\n",
        "        return SoPhuc(self.thuc - other.thuc, self.ao - other.ao)\n",
        "\n",
        "    def __mul__(self, other):\n",
        "        return SoPhuc(\n",
        "            self.thuc * other.thuc - self.ao * other.ao,\n",
        "            self.thuc * other.ao + self.ao * other.thuc\n",
        "        )\n",
        "\n",
        "    def __truediv__(self, other):\n",
        "        denominator = other.thuc**2 + other.ao**2\n",
        "        return SoPhuc(\n",
        "            (self.thuc * other.thuc + self.ao * other.ao) / denominator,\n",
        "            (self.ao * other.thuc - self.thuc * other.ao) / denominator\n",
        "        )\n",
        "\n",
        "    def __str__(self):\n",
        "        return f\"{self.thuc} + {self.ao}i\"\n",
        "\n",
        "def bai61():\n",
        "    sp1 = SoPhuc(3, 2)\n",
        "    sp2 = SoPhuc(1, 4)\n",
        "    print(\"Tổng:\", sp1 + sp2)\n",
        "    print(\"Hiệu:\", sp1 - sp2)\n",
        "    print(\"Tích:\", sp1 * sp2)\n",
        "    print(\"Thương:\", sp1 / sp2)\n",
        "bai61()"
      ],
      "metadata": {
        "colab": {
          "base_uri": "https://localhost:8080/"
        },
        "id": "CpYOkw5UmMRc",
        "outputId": "95043f69-c65f-4e53-ece5-68f612c0350c"
      },
      "execution_count": null,
      "outputs": [
        {
          "output_type": "stream",
          "name": "stdout",
          "text": [
            "Tổng: 4 + 6i\n",
            "Hiệu: 2 + -2i\n",
            "Tích: -5 + 14i\n",
            "Thương: 0.6470588235294118 + -0.5882352941176471i\n"
          ]
        }
      ]
    },
    {
      "cell_type": "code",
      "source": [
        "# Bài tập 68: Tổ hợp C(n,k) đệ quy\n",
        "def C(n, k):\n",
        "    if k == 0 or k == n:\n",
        "        return 1\n",
        "    return C(n-1, k) + C(n-1, k-1)\n",
        "\n",
        "def bai68():\n",
        "    n = int(input(\"Nhập n: \"))\n",
        "    k = int(input(\"Nhập k: \"))\n",
        "    print(f\"C({n}, {k}) = {C(n, k)}\")\n",
        "bai68()"
      ],
      "metadata": {
        "colab": {
          "base_uri": "https://localhost:8080/"
        },
        "id": "v_Q7KVk1mPTE",
        "outputId": "d4f49789-3261-4846-de7f-9496da0413e9"
      },
      "execution_count": null,
      "outputs": [
        {
          "output_type": "stream",
          "name": "stdout",
          "text": [
            "Nhập n: 5\n",
            "Nhập k: 3\n",
            "C(5, 3) = 10\n"
          ]
        }
      ]
    },
    {
      "cell_type": "code",
      "source": [
        "def read_matrix_from_file(filename):\n",
        "    try:\n",
        "        with open(filename, 'r') as file:\n",
        "            lines = file.readlines()\n",
        "            n = int(lines[0].strip())  # Đọc giá trị n\n",
        "            matrix = []\n",
        "\n",
        "            for line in lines[1:]:\n",
        "                row = list(map(int, line.strip().split()))\n",
        "                if len(row) != n:\n",
        "                    raise ValueError(\"Số phần tử trong dòng không hợp lệ!\")\n",
        "                matrix.append(row)\n",
        "\n",
        "            if len(matrix) != n:\n",
        "                raise ValueError(\"Số dòng của ma trận không hợp lệ!\")\n",
        "\n",
        "            return n, matrix\n",
        "    except Exception as e:\n",
        "        print(f\"Lỗi khi đọc file: {e}\")\n",
        "        return None, None\n",
        "\n",
        "\n",
        "def check_row_column_sums(matrix, n):\n",
        "    row_sums = [sum(row) for row in matrix]\n",
        "    col_sums = [sum(matrix[i][j] for i in range(n)) for j in range(n)]\n",
        "\n",
        "    return row_sums == col_sums\n",
        "\n",
        "\n",
        "def bai71():\n",
        "    filename = \"input.txt\"\n",
        "    n, matrix = read_matrix_from_file(filename)\n",
        "\n",
        "    if matrix:\n",
        "        print(\"Ma trận hợp lệ:\", matrix)\n",
        "        if check_row_column_sums(matrix, n):\n",
        "            print(\"Tổng các phần tử trên từng hàng và cột bằng nhau.\")\n",
        "        else:\n",
        "            print(\"Tổng các phần tử trên từng hàng và cột không bằng nhau.\")\n",
        "\n",
        "\n",
        "# Gọi hàm chính\n",
        "bai71()\n"
      ],
      "metadata": {
        "colab": {
          "base_uri": "https://localhost:8080/"
        },
        "id": "fioCSABCmR7_",
        "outputId": "94c1d054-6947-4b0d-92dc-f5c6ff51b30c"
      },
      "execution_count": null,
      "outputs": [
        {
          "output_type": "stream",
          "name": "stdout",
          "text": [
            "Ma trận hợp lệ: [[2, 1, 5], [2, 5, 1], [2, 5, 4]]\n",
            "Tổng các phần tử trên từng hàng và cột không bằng nhau.\n"
          ]
        }
      ]
    }
  ]
}